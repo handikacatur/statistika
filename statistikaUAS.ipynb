{
  "nbformat": 4,
  "nbformat_minor": 0,
  "metadata": {
    "colab": {
      "name": "statistikaUAS.ipynb",
      "provenance": [],
      "collapsed_sections": [
        "29_8YXDONPDd",
        "k21c6HbKTSaV",
        "-cnMJ6wMcJjF",
        "yc99d2AsgN3I",
        "26RYOM0-oxPL",
        "JoMy3Xz55ATm",
        "vh_jeKwkfQVm",
        "jlbqFeb8oFnz",
        "yyG3rGXioJGv",
        "FFKzlk4Uoe2t",
        "0i2c6H0bo1wL",
        "EN-Y3LBLpvit"
      ]
    },
    "kernelspec": {
      "name": "python3",
      "display_name": "Python 3"
    },
    "language_info": {
      "name": "python"
    }
  },
  "cells": [
    {
      "cell_type": "code",
      "metadata": {
        "id": "zQsj5OtuS4DJ"
      },
      "source": [
        "import math\n",
        "import pandas as pd"
      ],
      "execution_count": null,
      "outputs": []
    },
    {
      "cell_type": "code",
      "metadata": {
        "id": "0NB5yY2XUTAz"
      },
      "source": [
        "def twoDecimalPoint(data):\n",
        "  data = float(format(data, '.2f'))\n",
        "\n",
        "  return data"
      ],
      "execution_count": null,
      "outputs": []
    },
    {
      "cell_type": "code",
      "metadata": {
        "colab": {
          "base_uri": "https://localhost:8080/",
          "height": 204
        },
        "id": "KGYkzxWQGGbX",
        "outputId": "bc7ca6db-fc91-43fe-e977-5446ad851f65"
      },
      "source": [
        "si = pd.read_csv('/content/dataset_SI19.csv')\n",
        "si.head()"
      ],
      "execution_count": null,
      "outputs": [
        {
          "output_type": "execute_result",
          "data": {
            "text/html": [
              "<div>\n",
              "<style scoped>\n",
              "    .dataframe tbody tr th:only-of-type {\n",
              "        vertical-align: middle;\n",
              "    }\n",
              "\n",
              "    .dataframe tbody tr th {\n",
              "        vertical-align: top;\n",
              "    }\n",
              "\n",
              "    .dataframe thead th {\n",
              "        text-align: right;\n",
              "    }\n",
              "</style>\n",
              "<table border=\"1\" class=\"dataframe\">\n",
              "  <thead>\n",
              "    <tr style=\"text-align: right;\">\n",
              "      <th></th>\n",
              "      <th>NIM</th>\n",
              "      <th>IPK</th>\n",
              "    </tr>\n",
              "  </thead>\n",
              "  <tbody>\n",
              "    <tr>\n",
              "      <th>0</th>\n",
              "      <td>192410101001</td>\n",
              "      <td>3.623</td>\n",
              "    </tr>\n",
              "    <tr>\n",
              "      <th>1</th>\n",
              "      <td>192410101002</td>\n",
              "      <td>3.515</td>\n",
              "    </tr>\n",
              "    <tr>\n",
              "      <th>2</th>\n",
              "      <td>192410101003</td>\n",
              "      <td>3.846</td>\n",
              "    </tr>\n",
              "    <tr>\n",
              "      <th>3</th>\n",
              "      <td>192410101004</td>\n",
              "      <td>3.469</td>\n",
              "    </tr>\n",
              "    <tr>\n",
              "      <th>4</th>\n",
              "      <td>192410101005</td>\n",
              "      <td>3.031</td>\n",
              "    </tr>\n",
              "  </tbody>\n",
              "</table>\n",
              "</div>"
            ],
            "text/plain": [
              "            NIM    IPK\n",
              "0  192410101001  3.623\n",
              "1  192410101002  3.515\n",
              "2  192410101003  3.846\n",
              "3  192410101004  3.469\n",
              "4  192410101005  3.031"
            ]
          },
          "metadata": {
            "tags": []
          },
          "execution_count": 112
        }
      ]
    },
    {
      "cell_type": "code",
      "metadata": {
        "colab": {
          "base_uri": "https://localhost:8080/",
          "height": 204
        },
        "id": "y4kAXM3OHrJH",
        "outputId": "e4694a6b-d4ca-44bb-c426-6b13b5f98ad1"
      },
      "source": [
        "ti = pd.read_csv('/content/dataset_TI19.csv')\n",
        "ti.head()"
      ],
      "execution_count": null,
      "outputs": [
        {
          "output_type": "execute_result",
          "data": {
            "text/html": [
              "<div>\n",
              "<style scoped>\n",
              "    .dataframe tbody tr th:only-of-type {\n",
              "        vertical-align: middle;\n",
              "    }\n",
              "\n",
              "    .dataframe tbody tr th {\n",
              "        vertical-align: top;\n",
              "    }\n",
              "\n",
              "    .dataframe thead th {\n",
              "        text-align: right;\n",
              "    }\n",
              "</style>\n",
              "<table border=\"1\" class=\"dataframe\">\n",
              "  <thead>\n",
              "    <tr style=\"text-align: right;\">\n",
              "      <th></th>\n",
              "      <th>NIM</th>\n",
              "      <th>IPK</th>\n",
              "    </tr>\n",
              "  </thead>\n",
              "  <tbody>\n",
              "    <tr>\n",
              "      <th>0</th>\n",
              "      <td>192410102001</td>\n",
              "      <td>3.469</td>\n",
              "    </tr>\n",
              "    <tr>\n",
              "      <th>1</th>\n",
              "      <td>192410102002</td>\n",
              "      <td>3.838</td>\n",
              "    </tr>\n",
              "    <tr>\n",
              "      <th>2</th>\n",
              "      <td>192410102003</td>\n",
              "      <td>3.477</td>\n",
              "    </tr>\n",
              "    <tr>\n",
              "      <th>3</th>\n",
              "      <td>192410102004</td>\n",
              "      <td>2.778</td>\n",
              "    </tr>\n",
              "    <tr>\n",
              "      <th>4</th>\n",
              "      <td>192410102006</td>\n",
              "      <td>3.575</td>\n",
              "    </tr>\n",
              "  </tbody>\n",
              "</table>\n",
              "</div>"
            ],
            "text/plain": [
              "            NIM    IPK\n",
              "0  192410102001  3.469\n",
              "1  192410102002  3.838\n",
              "2  192410102003  3.477\n",
              "3  192410102004  2.778\n",
              "4  192410102006  3.575"
            ]
          },
          "metadata": {
            "tags": []
          },
          "execution_count": 113
        }
      ]
    },
    {
      "cell_type": "markdown",
      "metadata": {
        "id": "GNXJIwy5IP85"
      },
      "source": [
        "# SI 19\n"
      ]
    },
    {
      "cell_type": "code",
      "metadata": {
        "colab": {
          "base_uri": "https://localhost:8080/"
        },
        "id": "TbAeGgu1H9Xu",
        "outputId": "8d6fe4a3-734e-46bb-b092-d34d3fe34ee1"
      },
      "source": [
        "si_min = twoDecimalPoint(si.IPK.min())\n",
        "si_max = twoDecimalPoint(si.IPK.max())\n",
        "si_range = twoDecimalPoint(si_max - si_min)\n",
        "si_k = math.ceil(twoDecimalPoint(1+(3.33*math.log(len(si.IPK), 10))))\n",
        "si_p = twoDecimalPoint(si_range/si_k)\n",
        "\n",
        "def show(label, value):\n",
        "  print(label, '=', value)\n",
        "\n",
        "show('Min', si_min)\n",
        "show('Max', si_max)\n",
        "show('Range', si_range)\n",
        "show('K', si_k)\n",
        "show('P', si_p)"
      ],
      "execution_count": null,
      "outputs": [
        {
          "output_type": "stream",
          "text": [
            "Min = 1.55\n",
            "Max = 3.97\n",
            "Range = 2.42\n",
            "K = 9\n",
            "P = 0.27\n"
          ],
          "name": "stdout"
        }
      ]
    },
    {
      "cell_type": "code",
      "metadata": {
        "colab": {
          "base_uri": "https://localhost:8080/",
          "height": 328
        },
        "id": "lZkuAOepPNn1",
        "outputId": "8697a4dc-2ac3-4db8-efae-1a4ab204b25d"
      },
      "source": [
        "def getInterval(Min, K, P):\n",
        "  interval = []\n",
        "  for i in range(K):\n",
        "    if i == 0:\n",
        "      interval.append([Min, Min+twoDecimalPoint(P-0.01)])\n",
        "    else:\n",
        "      a = twoDecimalPoint(interval[i-1][0]+P)\n",
        "      b = twoDecimalPoint(a+twoDecimalPoint(P-0.01))\n",
        "      interval.append([a, b])\n",
        "\n",
        "  interval = pd.DataFrame(interval)\n",
        "  interval.columns = ['batas_bawah', 'batas_atas']\n",
        "\n",
        "  return interval\n",
        "\n",
        "si_interval = getInterval(si_min, si_k, si_p)\n",
        "si_interval"
      ],
      "execution_count": null,
      "outputs": [
        {
          "output_type": "execute_result",
          "data": {
            "text/html": [
              "<div>\n",
              "<style scoped>\n",
              "    .dataframe tbody tr th:only-of-type {\n",
              "        vertical-align: middle;\n",
              "    }\n",
              "\n",
              "    .dataframe tbody tr th {\n",
              "        vertical-align: top;\n",
              "    }\n",
              "\n",
              "    .dataframe thead th {\n",
              "        text-align: right;\n",
              "    }\n",
              "</style>\n",
              "<table border=\"1\" class=\"dataframe\">\n",
              "  <thead>\n",
              "    <tr style=\"text-align: right;\">\n",
              "      <th></th>\n",
              "      <th>batas_bawah</th>\n",
              "      <th>batas_atas</th>\n",
              "    </tr>\n",
              "  </thead>\n",
              "  <tbody>\n",
              "    <tr>\n",
              "      <th>0</th>\n",
              "      <td>1.55</td>\n",
              "      <td>1.81</td>\n",
              "    </tr>\n",
              "    <tr>\n",
              "      <th>1</th>\n",
              "      <td>1.82</td>\n",
              "      <td>2.08</td>\n",
              "    </tr>\n",
              "    <tr>\n",
              "      <th>2</th>\n",
              "      <td>2.09</td>\n",
              "      <td>2.35</td>\n",
              "    </tr>\n",
              "    <tr>\n",
              "      <th>3</th>\n",
              "      <td>2.36</td>\n",
              "      <td>2.62</td>\n",
              "    </tr>\n",
              "    <tr>\n",
              "      <th>4</th>\n",
              "      <td>2.63</td>\n",
              "      <td>2.89</td>\n",
              "    </tr>\n",
              "    <tr>\n",
              "      <th>5</th>\n",
              "      <td>2.90</td>\n",
              "      <td>3.16</td>\n",
              "    </tr>\n",
              "    <tr>\n",
              "      <th>6</th>\n",
              "      <td>3.17</td>\n",
              "      <td>3.43</td>\n",
              "    </tr>\n",
              "    <tr>\n",
              "      <th>7</th>\n",
              "      <td>3.44</td>\n",
              "      <td>3.70</td>\n",
              "    </tr>\n",
              "    <tr>\n",
              "      <th>8</th>\n",
              "      <td>3.71</td>\n",
              "      <td>3.97</td>\n",
              "    </tr>\n",
              "  </tbody>\n",
              "</table>\n",
              "</div>"
            ],
            "text/plain": [
              "   batas_bawah  batas_atas\n",
              "0         1.55        1.81\n",
              "1         1.82        2.08\n",
              "2         2.09        2.35\n",
              "3         2.36        2.62\n",
              "4         2.63        2.89\n",
              "5         2.90        3.16\n",
              "6         3.17        3.43\n",
              "7         3.44        3.70\n",
              "8         3.71        3.97"
            ]
          },
          "metadata": {
            "tags": []
          },
          "execution_count": 115
        }
      ]
    },
    {
      "cell_type": "code",
      "metadata": {
        "colab": {
          "base_uri": "https://localhost:8080/",
          "height": 328
        },
        "id": "3mjExmNOe3fD",
        "outputId": "39eb7d7d-3312-419a-addd-449dfd0957cd"
      },
      "source": [
        "def getFrekuensi(df, interval):\n",
        "  frekuensi = []\n",
        "  for i in range(len(interval)):\n",
        "    counter = 0\n",
        "    for j in df.IPK:\n",
        "      if interval.loc[i].batas_bawah <= twoDecimalPoint(j) <= interval.loc[i].batas_atas:\n",
        "        counter += 1\n",
        "\n",
        "    frekuensi.append(counter)\n",
        "  frekuensi = pd.DataFrame(frekuensi)\n",
        "  frekuensi.columns = ['frekuensi']\n",
        "\n",
        "  return pd.concat([interval, frekuensi], axis='columns')\n",
        "\n",
        "si_interval = getFrekuensi(si, si_interval)\n",
        "si_interval"
      ],
      "execution_count": null,
      "outputs": [
        {
          "output_type": "execute_result",
          "data": {
            "text/html": [
              "<div>\n",
              "<style scoped>\n",
              "    .dataframe tbody tr th:only-of-type {\n",
              "        vertical-align: middle;\n",
              "    }\n",
              "\n",
              "    .dataframe tbody tr th {\n",
              "        vertical-align: top;\n",
              "    }\n",
              "\n",
              "    .dataframe thead th {\n",
              "        text-align: right;\n",
              "    }\n",
              "</style>\n",
              "<table border=\"1\" class=\"dataframe\">\n",
              "  <thead>\n",
              "    <tr style=\"text-align: right;\">\n",
              "      <th></th>\n",
              "      <th>batas_bawah</th>\n",
              "      <th>batas_atas</th>\n",
              "      <th>frekuensi</th>\n",
              "    </tr>\n",
              "  </thead>\n",
              "  <tbody>\n",
              "    <tr>\n",
              "      <th>0</th>\n",
              "      <td>1.55</td>\n",
              "      <td>1.81</td>\n",
              "      <td>1</td>\n",
              "    </tr>\n",
              "    <tr>\n",
              "      <th>1</th>\n",
              "      <td>1.82</td>\n",
              "      <td>2.08</td>\n",
              "      <td>0</td>\n",
              "    </tr>\n",
              "    <tr>\n",
              "      <th>2</th>\n",
              "      <td>2.09</td>\n",
              "      <td>2.35</td>\n",
              "      <td>0</td>\n",
              "    </tr>\n",
              "    <tr>\n",
              "      <th>3</th>\n",
              "      <td>2.36</td>\n",
              "      <td>2.62</td>\n",
              "      <td>2</td>\n",
              "    </tr>\n",
              "    <tr>\n",
              "      <th>4</th>\n",
              "      <td>2.63</td>\n",
              "      <td>2.89</td>\n",
              "      <td>5</td>\n",
              "    </tr>\n",
              "    <tr>\n",
              "      <th>5</th>\n",
              "      <td>2.90</td>\n",
              "      <td>3.16</td>\n",
              "      <td>4</td>\n",
              "    </tr>\n",
              "    <tr>\n",
              "      <th>6</th>\n",
              "      <td>3.17</td>\n",
              "      <td>3.43</td>\n",
              "      <td>35</td>\n",
              "    </tr>\n",
              "    <tr>\n",
              "      <th>7</th>\n",
              "      <td>3.44</td>\n",
              "      <td>3.70</td>\n",
              "      <td>66</td>\n",
              "    </tr>\n",
              "    <tr>\n",
              "      <th>8</th>\n",
              "      <td>3.71</td>\n",
              "      <td>3.97</td>\n",
              "      <td>27</td>\n",
              "    </tr>\n",
              "  </tbody>\n",
              "</table>\n",
              "</div>"
            ],
            "text/plain": [
              "   batas_bawah  batas_atas  frekuensi\n",
              "0         1.55        1.81          1\n",
              "1         1.82        2.08          0\n",
              "2         2.09        2.35          0\n",
              "3         2.36        2.62          2\n",
              "4         2.63        2.89          5\n",
              "5         2.90        3.16          4\n",
              "6         3.17        3.43         35\n",
              "7         3.44        3.70         66\n",
              "8         3.71        3.97         27"
            ]
          },
          "metadata": {
            "tags": []
          },
          "execution_count": 116
        }
      ]
    },
    {
      "cell_type": "code",
      "metadata": {
        "colab": {
          "base_uri": "https://localhost:8080/"
        },
        "id": "bPRt-2-GMweO",
        "outputId": "26e81336-d704-42ba-ccb3-a364a0fedb7b"
      },
      "source": [
        "# menghitung jumlah frekuensi IPK prodi SI\n",
        "jumlah_fi_si = si_interval.frekuensi.sum()\n",
        "jumlah_fi_si"
      ],
      "execution_count": null,
      "outputs": [
        {
          "output_type": "execute_result",
          "data": {
            "text/plain": [
              "140"
            ]
          },
          "metadata": {
            "tags": []
          },
          "execution_count": 117
        }
      ]
    },
    {
      "cell_type": "markdown",
      "metadata": {
        "id": "29_8YXDONPDd"
      },
      "source": [
        "### Mean"
      ]
    },
    {
      "cell_type": "code",
      "metadata": {
        "id": "5BUHn-OWNL9w"
      },
      "source": [
        "def getNilaiTengah(df):\n",
        "  xi = []\n",
        "  for i in range(len(df)):\n",
        "    xi.append(twoDecimalPoint((df.loc[i].batas_bawah+df.loc[i].batas_atas)/2))\n",
        "  \n",
        "  xi = pd.DataFrame(xi)\n",
        "  xi.columns = ['nilai_tengah']\n",
        "\n",
        "  return pd.concat([df, xi], axis='columns')\n",
        "\n",
        "si_interval = getNilaiTengah(si_interval)"
      ],
      "execution_count": null,
      "outputs": []
    },
    {
      "cell_type": "code",
      "metadata": {
        "colab": {
          "base_uri": "https://localhost:8080/",
          "height": 328
        },
        "id": "RqAhcXooTlAO",
        "outputId": "7d73185c-ce5d-4930-c628-f1d4f65136c6"
      },
      "source": [
        "def getFixi(df):\n",
        "  fixi = []\n",
        "  for i in range(len(df)):\n",
        "    fixi.append(\n",
        "        twoDecimalPoint(df.loc[i].frekuensi*df.loc[i].nilai_tengah)\n",
        "    )\n",
        "  fixi = pd.DataFrame(fixi)\n",
        "  fixi.columns = ['fi*xi']\n",
        "\n",
        "  return pd.concat([df, fixi], axis='columns')\n",
        "\n",
        "si_interval = getFixi(si_interval)\n",
        "\n",
        "si_interval"
      ],
      "execution_count": null,
      "outputs": [
        {
          "output_type": "execute_result",
          "data": {
            "text/html": [
              "<div>\n",
              "<style scoped>\n",
              "    .dataframe tbody tr th:only-of-type {\n",
              "        vertical-align: middle;\n",
              "    }\n",
              "\n",
              "    .dataframe tbody tr th {\n",
              "        vertical-align: top;\n",
              "    }\n",
              "\n",
              "    .dataframe thead th {\n",
              "        text-align: right;\n",
              "    }\n",
              "</style>\n",
              "<table border=\"1\" class=\"dataframe\">\n",
              "  <thead>\n",
              "    <tr style=\"text-align: right;\">\n",
              "      <th></th>\n",
              "      <th>batas_bawah</th>\n",
              "      <th>batas_atas</th>\n",
              "      <th>frekuensi</th>\n",
              "      <th>nilai_tengah</th>\n",
              "      <th>fi*xi</th>\n",
              "    </tr>\n",
              "  </thead>\n",
              "  <tbody>\n",
              "    <tr>\n",
              "      <th>0</th>\n",
              "      <td>1.55</td>\n",
              "      <td>1.81</td>\n",
              "      <td>1</td>\n",
              "      <td>1.68</td>\n",
              "      <td>1.68</td>\n",
              "    </tr>\n",
              "    <tr>\n",
              "      <th>1</th>\n",
              "      <td>1.82</td>\n",
              "      <td>2.08</td>\n",
              "      <td>0</td>\n",
              "      <td>1.95</td>\n",
              "      <td>0.00</td>\n",
              "    </tr>\n",
              "    <tr>\n",
              "      <th>2</th>\n",
              "      <td>2.09</td>\n",
              "      <td>2.35</td>\n",
              "      <td>0</td>\n",
              "      <td>2.22</td>\n",
              "      <td>0.00</td>\n",
              "    </tr>\n",
              "    <tr>\n",
              "      <th>3</th>\n",
              "      <td>2.36</td>\n",
              "      <td>2.62</td>\n",
              "      <td>2</td>\n",
              "      <td>2.49</td>\n",
              "      <td>4.98</td>\n",
              "    </tr>\n",
              "    <tr>\n",
              "      <th>4</th>\n",
              "      <td>2.63</td>\n",
              "      <td>2.89</td>\n",
              "      <td>5</td>\n",
              "      <td>2.76</td>\n",
              "      <td>13.80</td>\n",
              "    </tr>\n",
              "    <tr>\n",
              "      <th>5</th>\n",
              "      <td>2.90</td>\n",
              "      <td>3.16</td>\n",
              "      <td>4</td>\n",
              "      <td>3.03</td>\n",
              "      <td>12.12</td>\n",
              "    </tr>\n",
              "    <tr>\n",
              "      <th>6</th>\n",
              "      <td>3.17</td>\n",
              "      <td>3.43</td>\n",
              "      <td>35</td>\n",
              "      <td>3.30</td>\n",
              "      <td>115.50</td>\n",
              "    </tr>\n",
              "    <tr>\n",
              "      <th>7</th>\n",
              "      <td>3.44</td>\n",
              "      <td>3.70</td>\n",
              "      <td>66</td>\n",
              "      <td>3.57</td>\n",
              "      <td>235.62</td>\n",
              "    </tr>\n",
              "    <tr>\n",
              "      <th>8</th>\n",
              "      <td>3.71</td>\n",
              "      <td>3.97</td>\n",
              "      <td>27</td>\n",
              "      <td>3.84</td>\n",
              "      <td>103.68</td>\n",
              "    </tr>\n",
              "  </tbody>\n",
              "</table>\n",
              "</div>"
            ],
            "text/plain": [
              "   batas_bawah  batas_atas  frekuensi  nilai_tengah   fi*xi\n",
              "0         1.55        1.81          1          1.68    1.68\n",
              "1         1.82        2.08          0          1.95    0.00\n",
              "2         2.09        2.35          0          2.22    0.00\n",
              "3         2.36        2.62          2          2.49    4.98\n",
              "4         2.63        2.89          5          2.76   13.80\n",
              "5         2.90        3.16          4          3.03   12.12\n",
              "6         3.17        3.43         35          3.30  115.50\n",
              "7         3.44        3.70         66          3.57  235.62\n",
              "8         3.71        3.97         27          3.84  103.68"
            ]
          },
          "metadata": {
            "tags": []
          },
          "execution_count": 119
        }
      ]
    },
    {
      "cell_type": "code",
      "metadata": {
        "colab": {
          "base_uri": "https://localhost:8080/"
        },
        "id": "oF6v9HNYSUfv",
        "outputId": "0417bf16-5c84-498c-d114-8da4084075f0"
      },
      "source": [
        "jumlah_fixi_si = si_interval['fi*xi'].sum()\n",
        "\n",
        "mean = jumlah_fixi_si/jumlah_fi_si\n",
        "\n",
        "print('mean =>', mean)"
      ],
      "execution_count": null,
      "outputs": [
        {
          "output_type": "stream",
          "text": [
            "mean => 3.4812857142857148\n"
          ],
          "name": "stdout"
        }
      ]
    },
    {
      "cell_type": "markdown",
      "metadata": {
        "id": "k21c6HbKTSaV"
      },
      "source": [
        "### Median"
      ]
    },
    {
      "cell_type": "code",
      "metadata": {
        "colab": {
          "base_uri": "https://localhost:8080/",
          "height": 328
        },
        "id": "apawPXTYTRhk",
        "outputId": "309e7513-0685-4e05-e54b-8d0ccac1457a"
      },
      "source": [
        "def getFK(df):\n",
        "  fk = []\n",
        "  for i in range(len(df)):\n",
        "    if i == 0:\n",
        "      fk.append(df.loc[i].frekuensi)\n",
        "    else:\n",
        "      fk.append(fk[i-1]+df.loc[i].frekuensi)\n",
        "  fk = pd.DataFrame(fk)\n",
        "  fk.columns = ['frekuensi_kumulatif']\n",
        "\n",
        "  return pd.concat([df, fk], axis='columns')\n",
        "\n",
        "si_interval = getFK(si_interval)\n",
        "si_interval"
      ],
      "execution_count": null,
      "outputs": [
        {
          "output_type": "execute_result",
          "data": {
            "text/html": [
              "<div>\n",
              "<style scoped>\n",
              "    .dataframe tbody tr th:only-of-type {\n",
              "        vertical-align: middle;\n",
              "    }\n",
              "\n",
              "    .dataframe tbody tr th {\n",
              "        vertical-align: top;\n",
              "    }\n",
              "\n",
              "    .dataframe thead th {\n",
              "        text-align: right;\n",
              "    }\n",
              "</style>\n",
              "<table border=\"1\" class=\"dataframe\">\n",
              "  <thead>\n",
              "    <tr style=\"text-align: right;\">\n",
              "      <th></th>\n",
              "      <th>batas_bawah</th>\n",
              "      <th>batas_atas</th>\n",
              "      <th>frekuensi</th>\n",
              "      <th>nilai_tengah</th>\n",
              "      <th>fi*xi</th>\n",
              "      <th>frekuensi_kumulatif</th>\n",
              "    </tr>\n",
              "  </thead>\n",
              "  <tbody>\n",
              "    <tr>\n",
              "      <th>0</th>\n",
              "      <td>1.55</td>\n",
              "      <td>1.81</td>\n",
              "      <td>1</td>\n",
              "      <td>1.68</td>\n",
              "      <td>1.68</td>\n",
              "      <td>1.0</td>\n",
              "    </tr>\n",
              "    <tr>\n",
              "      <th>1</th>\n",
              "      <td>1.82</td>\n",
              "      <td>2.08</td>\n",
              "      <td>0</td>\n",
              "      <td>1.95</td>\n",
              "      <td>0.00</td>\n",
              "      <td>1.0</td>\n",
              "    </tr>\n",
              "    <tr>\n",
              "      <th>2</th>\n",
              "      <td>2.09</td>\n",
              "      <td>2.35</td>\n",
              "      <td>0</td>\n",
              "      <td>2.22</td>\n",
              "      <td>0.00</td>\n",
              "      <td>1.0</td>\n",
              "    </tr>\n",
              "    <tr>\n",
              "      <th>3</th>\n",
              "      <td>2.36</td>\n",
              "      <td>2.62</td>\n",
              "      <td>2</td>\n",
              "      <td>2.49</td>\n",
              "      <td>4.98</td>\n",
              "      <td>3.0</td>\n",
              "    </tr>\n",
              "    <tr>\n",
              "      <th>4</th>\n",
              "      <td>2.63</td>\n",
              "      <td>2.89</td>\n",
              "      <td>5</td>\n",
              "      <td>2.76</td>\n",
              "      <td>13.80</td>\n",
              "      <td>8.0</td>\n",
              "    </tr>\n",
              "    <tr>\n",
              "      <th>5</th>\n",
              "      <td>2.90</td>\n",
              "      <td>3.16</td>\n",
              "      <td>4</td>\n",
              "      <td>3.03</td>\n",
              "      <td>12.12</td>\n",
              "      <td>12.0</td>\n",
              "    </tr>\n",
              "    <tr>\n",
              "      <th>6</th>\n",
              "      <td>3.17</td>\n",
              "      <td>3.43</td>\n",
              "      <td>35</td>\n",
              "      <td>3.30</td>\n",
              "      <td>115.50</td>\n",
              "      <td>47.0</td>\n",
              "    </tr>\n",
              "    <tr>\n",
              "      <th>7</th>\n",
              "      <td>3.44</td>\n",
              "      <td>3.70</td>\n",
              "      <td>66</td>\n",
              "      <td>3.57</td>\n",
              "      <td>235.62</td>\n",
              "      <td>113.0</td>\n",
              "    </tr>\n",
              "    <tr>\n",
              "      <th>8</th>\n",
              "      <td>3.71</td>\n",
              "      <td>3.97</td>\n",
              "      <td>27</td>\n",
              "      <td>3.84</td>\n",
              "      <td>103.68</td>\n",
              "      <td>140.0</td>\n",
              "    </tr>\n",
              "  </tbody>\n",
              "</table>\n",
              "</div>"
            ],
            "text/plain": [
              "   batas_bawah  batas_atas  ...   fi*xi  frekuensi_kumulatif\n",
              "0         1.55        1.81  ...    1.68                  1.0\n",
              "1         1.82        2.08  ...    0.00                  1.0\n",
              "2         2.09        2.35  ...    0.00                  1.0\n",
              "3         2.36        2.62  ...    4.98                  3.0\n",
              "4         2.63        2.89  ...   13.80                  8.0\n",
              "5         2.90        3.16  ...   12.12                 12.0\n",
              "6         3.17        3.43  ...  115.50                 47.0\n",
              "7         3.44        3.70  ...  235.62                113.0\n",
              "8         3.71        3.97  ...  103.68                140.0\n",
              "\n",
              "[9 rows x 6 columns]"
            ]
          },
          "metadata": {
            "tags": []
          },
          "execution_count": 122
        }
      ]
    },
    {
      "cell_type": "code",
      "metadata": {
        "colab": {
          "base_uri": "https://localhost:8080/"
        },
        "id": "9MuSzYYtWXHc",
        "outputId": "c4e01dbd-cf46-42f1-8619-65c27d39d68e"
      },
      "source": [
        "def getMedian(df, P):\n",
        "  global si_range\n",
        "  letak_median = twoDecimalPoint(df.frekuensi.sum()/2)\n",
        "  for i in range(len(df)):\n",
        "    if letak_median < df.loc[i].frekuensi_kumulatif:\n",
        "      lm = twoDecimalPoint(df.loc[i].batas_bawah-0.5)\n",
        "      cf = df.loc[i-1].frekuensi_kumulatif\n",
        "      fm = df.loc[i].frekuensi\n",
        "      w = P\n",
        "\n",
        "      break\n",
        "\n",
        "  return twoDecimalPoint(lm+w*(jumlah_fi_si/2-cf)/fm)\n",
        "\n",
        "median = getMedian(si_interval, si_range)\n",
        "print('Median =>', median)"
      ],
      "execution_count": null,
      "outputs": [
        {
          "output_type": "stream",
          "text": [
            "Median => 3.78\n"
          ],
          "name": "stdout"
        }
      ]
    },
    {
      "cell_type": "markdown",
      "metadata": {
        "id": "-cnMJ6wMcJjF"
      },
      "source": [
        "### Modus"
      ]
    },
    {
      "cell_type": "code",
      "metadata": {
        "colab": {
          "base_uri": "https://localhost:8080/"
        },
        "id": "NjSmC6nZcPv-",
        "outputId": "6a8cd439-8307-4e30-abff-2a0ce566e4bf"
      },
      "source": [
        "def getModus(df, P):\n",
        "  i = df.frekuensi.idxmax() # mencari index frekuensi terbanyak\n",
        "  b = twoDecimalPoint(df.loc[i].batas_bawah-0.5)\n",
        "  w = P\n",
        "  f1 = df.loc[i-1].frekuensi\n",
        "  f2 = df.loc[i+1].frekuensi\n",
        "\n",
        "  return twoDecimalPoint(b+w*(f1/(f1+f2)))\n",
        "\n",
        "modus = getModus(si_interval, si_range)\n",
        "print('Modus =>',modus)"
      ],
      "execution_count": null,
      "outputs": [
        {
          "output_type": "stream",
          "text": [
            "Modus => 4.31\n"
          ],
          "name": "stdout"
        }
      ]
    },
    {
      "cell_type": "markdown",
      "metadata": {
        "id": "yc99d2AsgN3I"
      },
      "source": [
        "### Range"
      ]
    },
    {
      "cell_type": "code",
      "metadata": {
        "colab": {
          "base_uri": "https://localhost:8080/"
        },
        "id": "MV54hYE9gNef",
        "outputId": "12024c35-c811-4b14-82cb-ecfc239d1265"
      },
      "source": [
        "def getRange(df):\n",
        "  batas_bawah = twoDecimalPoint(df.loc[0].batas_bawah-0.5)\n",
        "  batas_atas = twoDecimalPoint(df.loc[len(df)-1].batas_atas+0.5)\n",
        "\n",
        "  return batas_atas-batas_bawah\n",
        "\n",
        "rentang = getRange(si_interval)\n",
        "\n",
        "print('Range =>', rentang)"
      ],
      "execution_count": null,
      "outputs": [
        {
          "output_type": "stream",
          "text": [
            "Range => 3.42\n"
          ],
          "name": "stdout"
        }
      ]
    },
    {
      "cell_type": "markdown",
      "metadata": {
        "id": "26RYOM0-oxPL"
      },
      "source": [
        "### Simpangan rata-rata"
      ]
    },
    {
      "cell_type": "code",
      "metadata": {
        "id": "yib2SrL3q3nq"
      },
      "source": [
        "average = twoDecimalPoint(jumlah_fixi_si/jumlah_fi_si)"
      ],
      "execution_count": null,
      "outputs": []
    },
    {
      "cell_type": "code",
      "metadata": {
        "colab": {
          "base_uri": "https://localhost:8080/",
          "height": 328
        },
        "id": "v8PbdRU_sZt2",
        "outputId": "073c35c9-5169-469b-e665-a8e8f4be984d"
      },
      "source": [
        "def getXiXbar(df):\n",
        "  xixbar = []\n",
        "  for i in df.nilai_tengah:\n",
        "    xixbar.append(twoDecimalPoint(abs(i-average)))\n",
        "\n",
        "  xixbar = pd.DataFrame(xixbar)\n",
        "  xixbar.columns = ['xi-xbar']\n",
        "\n",
        "  return pd.concat([df, xixbar], axis='columns')\n",
        "\n",
        "si_interval = getXiXbar(si_interval)\n",
        "si_interval"
      ],
      "execution_count": null,
      "outputs": [
        {
          "output_type": "execute_result",
          "data": {
            "text/html": [
              "<div>\n",
              "<style scoped>\n",
              "    .dataframe tbody tr th:only-of-type {\n",
              "        vertical-align: middle;\n",
              "    }\n",
              "\n",
              "    .dataframe tbody tr th {\n",
              "        vertical-align: top;\n",
              "    }\n",
              "\n",
              "    .dataframe thead th {\n",
              "        text-align: right;\n",
              "    }\n",
              "</style>\n",
              "<table border=\"1\" class=\"dataframe\">\n",
              "  <thead>\n",
              "    <tr style=\"text-align: right;\">\n",
              "      <th></th>\n",
              "      <th>batas_bawah</th>\n",
              "      <th>batas_atas</th>\n",
              "      <th>frekuensi</th>\n",
              "      <th>nilai_tengah</th>\n",
              "      <th>fi*xi</th>\n",
              "      <th>frekuensi_kumulatif</th>\n",
              "      <th>xi-xbar</th>\n",
              "    </tr>\n",
              "  </thead>\n",
              "  <tbody>\n",
              "    <tr>\n",
              "      <th>0</th>\n",
              "      <td>1.55</td>\n",
              "      <td>1.81</td>\n",
              "      <td>1</td>\n",
              "      <td>1.68</td>\n",
              "      <td>1.68</td>\n",
              "      <td>1.0</td>\n",
              "      <td>1.80</td>\n",
              "    </tr>\n",
              "    <tr>\n",
              "      <th>1</th>\n",
              "      <td>1.82</td>\n",
              "      <td>2.08</td>\n",
              "      <td>0</td>\n",
              "      <td>1.95</td>\n",
              "      <td>0.00</td>\n",
              "      <td>1.0</td>\n",
              "      <td>1.53</td>\n",
              "    </tr>\n",
              "    <tr>\n",
              "      <th>2</th>\n",
              "      <td>2.09</td>\n",
              "      <td>2.35</td>\n",
              "      <td>0</td>\n",
              "      <td>2.22</td>\n",
              "      <td>0.00</td>\n",
              "      <td>1.0</td>\n",
              "      <td>1.26</td>\n",
              "    </tr>\n",
              "    <tr>\n",
              "      <th>3</th>\n",
              "      <td>2.36</td>\n",
              "      <td>2.62</td>\n",
              "      <td>2</td>\n",
              "      <td>2.49</td>\n",
              "      <td>4.98</td>\n",
              "      <td>3.0</td>\n",
              "      <td>0.99</td>\n",
              "    </tr>\n",
              "    <tr>\n",
              "      <th>4</th>\n",
              "      <td>2.63</td>\n",
              "      <td>2.89</td>\n",
              "      <td>5</td>\n",
              "      <td>2.76</td>\n",
              "      <td>13.80</td>\n",
              "      <td>8.0</td>\n",
              "      <td>0.72</td>\n",
              "    </tr>\n",
              "    <tr>\n",
              "      <th>5</th>\n",
              "      <td>2.90</td>\n",
              "      <td>3.16</td>\n",
              "      <td>4</td>\n",
              "      <td>3.03</td>\n",
              "      <td>12.12</td>\n",
              "      <td>12.0</td>\n",
              "      <td>0.45</td>\n",
              "    </tr>\n",
              "    <tr>\n",
              "      <th>6</th>\n",
              "      <td>3.17</td>\n",
              "      <td>3.43</td>\n",
              "      <td>35</td>\n",
              "      <td>3.30</td>\n",
              "      <td>115.50</td>\n",
              "      <td>47.0</td>\n",
              "      <td>0.18</td>\n",
              "    </tr>\n",
              "    <tr>\n",
              "      <th>7</th>\n",
              "      <td>3.44</td>\n",
              "      <td>3.70</td>\n",
              "      <td>66</td>\n",
              "      <td>3.57</td>\n",
              "      <td>235.62</td>\n",
              "      <td>113.0</td>\n",
              "      <td>0.09</td>\n",
              "    </tr>\n",
              "    <tr>\n",
              "      <th>8</th>\n",
              "      <td>3.71</td>\n",
              "      <td>3.97</td>\n",
              "      <td>27</td>\n",
              "      <td>3.84</td>\n",
              "      <td>103.68</td>\n",
              "      <td>140.0</td>\n",
              "      <td>0.36</td>\n",
              "    </tr>\n",
              "  </tbody>\n",
              "</table>\n",
              "</div>"
            ],
            "text/plain": [
              "   batas_bawah  batas_atas  frekuensi  ...   fi*xi  frekuensi_kumulatif  xi-xbar\n",
              "0         1.55        1.81          1  ...    1.68                  1.0     1.80\n",
              "1         1.82        2.08          0  ...    0.00                  1.0     1.53\n",
              "2         2.09        2.35          0  ...    0.00                  1.0     1.26\n",
              "3         2.36        2.62          2  ...    4.98                  3.0     0.99\n",
              "4         2.63        2.89          5  ...   13.80                  8.0     0.72\n",
              "5         2.90        3.16          4  ...   12.12                 12.0     0.45\n",
              "6         3.17        3.43         35  ...  115.50                 47.0     0.18\n",
              "7         3.44        3.70         66  ...  235.62                113.0     0.09\n",
              "8         3.71        3.97         27  ...  103.68                140.0     0.36\n",
              "\n",
              "[9 rows x 7 columns]"
            ]
          },
          "metadata": {
            "tags": []
          },
          "execution_count": 127
        }
      ]
    },
    {
      "cell_type": "code",
      "metadata": {
        "colab": {
          "base_uri": "https://localhost:8080/",
          "height": 328
        },
        "id": "kon9jYNTwfQR",
        "outputId": "a9b14fff-d861-4d86-c30c-131f14cb1975"
      },
      "source": [
        "def getFiXiXbar(df):\n",
        "  fixixbar = []\n",
        "  for i in range(len(df)):\n",
        "    fixixbar.append(twoDecimalPoint(df.loc[i].frekuensi*df.loc[i]['xi-xbar']))\n",
        "  \n",
        "  fixixbar = pd.DataFrame(fixixbar)\n",
        "  fixixbar.columns = ['fi[xi-xbar]']\n",
        "\n",
        "  return pd.concat([df, fixixbar], axis='columns')\n",
        "\n",
        "si_interval = getFiXiXbar(si_interval)\n",
        "si_interval"
      ],
      "execution_count": null,
      "outputs": [
        {
          "output_type": "execute_result",
          "data": {
            "text/html": [
              "<div>\n",
              "<style scoped>\n",
              "    .dataframe tbody tr th:only-of-type {\n",
              "        vertical-align: middle;\n",
              "    }\n",
              "\n",
              "    .dataframe tbody tr th {\n",
              "        vertical-align: top;\n",
              "    }\n",
              "\n",
              "    .dataframe thead th {\n",
              "        text-align: right;\n",
              "    }\n",
              "</style>\n",
              "<table border=\"1\" class=\"dataframe\">\n",
              "  <thead>\n",
              "    <tr style=\"text-align: right;\">\n",
              "      <th></th>\n",
              "      <th>batas_bawah</th>\n",
              "      <th>batas_atas</th>\n",
              "      <th>frekuensi</th>\n",
              "      <th>nilai_tengah</th>\n",
              "      <th>fi*xi</th>\n",
              "      <th>frekuensi_kumulatif</th>\n",
              "      <th>xi-xbar</th>\n",
              "      <th>fi[xi-xbar]</th>\n",
              "    </tr>\n",
              "  </thead>\n",
              "  <tbody>\n",
              "    <tr>\n",
              "      <th>0</th>\n",
              "      <td>1.55</td>\n",
              "      <td>1.81</td>\n",
              "      <td>1</td>\n",
              "      <td>1.68</td>\n",
              "      <td>1.68</td>\n",
              "      <td>1.0</td>\n",
              "      <td>1.80</td>\n",
              "      <td>1.80</td>\n",
              "    </tr>\n",
              "    <tr>\n",
              "      <th>1</th>\n",
              "      <td>1.82</td>\n",
              "      <td>2.08</td>\n",
              "      <td>0</td>\n",
              "      <td>1.95</td>\n",
              "      <td>0.00</td>\n",
              "      <td>1.0</td>\n",
              "      <td>1.53</td>\n",
              "      <td>0.00</td>\n",
              "    </tr>\n",
              "    <tr>\n",
              "      <th>2</th>\n",
              "      <td>2.09</td>\n",
              "      <td>2.35</td>\n",
              "      <td>0</td>\n",
              "      <td>2.22</td>\n",
              "      <td>0.00</td>\n",
              "      <td>1.0</td>\n",
              "      <td>1.26</td>\n",
              "      <td>0.00</td>\n",
              "    </tr>\n",
              "    <tr>\n",
              "      <th>3</th>\n",
              "      <td>2.36</td>\n",
              "      <td>2.62</td>\n",
              "      <td>2</td>\n",
              "      <td>2.49</td>\n",
              "      <td>4.98</td>\n",
              "      <td>3.0</td>\n",
              "      <td>0.99</td>\n",
              "      <td>1.98</td>\n",
              "    </tr>\n",
              "    <tr>\n",
              "      <th>4</th>\n",
              "      <td>2.63</td>\n",
              "      <td>2.89</td>\n",
              "      <td>5</td>\n",
              "      <td>2.76</td>\n",
              "      <td>13.80</td>\n",
              "      <td>8.0</td>\n",
              "      <td>0.72</td>\n",
              "      <td>3.60</td>\n",
              "    </tr>\n",
              "    <tr>\n",
              "      <th>5</th>\n",
              "      <td>2.90</td>\n",
              "      <td>3.16</td>\n",
              "      <td>4</td>\n",
              "      <td>3.03</td>\n",
              "      <td>12.12</td>\n",
              "      <td>12.0</td>\n",
              "      <td>0.45</td>\n",
              "      <td>1.80</td>\n",
              "    </tr>\n",
              "    <tr>\n",
              "      <th>6</th>\n",
              "      <td>3.17</td>\n",
              "      <td>3.43</td>\n",
              "      <td>35</td>\n",
              "      <td>3.30</td>\n",
              "      <td>115.50</td>\n",
              "      <td>47.0</td>\n",
              "      <td>0.18</td>\n",
              "      <td>6.30</td>\n",
              "    </tr>\n",
              "    <tr>\n",
              "      <th>7</th>\n",
              "      <td>3.44</td>\n",
              "      <td>3.70</td>\n",
              "      <td>66</td>\n",
              "      <td>3.57</td>\n",
              "      <td>235.62</td>\n",
              "      <td>113.0</td>\n",
              "      <td>0.09</td>\n",
              "      <td>5.94</td>\n",
              "    </tr>\n",
              "    <tr>\n",
              "      <th>8</th>\n",
              "      <td>3.71</td>\n",
              "      <td>3.97</td>\n",
              "      <td>27</td>\n",
              "      <td>3.84</td>\n",
              "      <td>103.68</td>\n",
              "      <td>140.0</td>\n",
              "      <td>0.36</td>\n",
              "      <td>9.72</td>\n",
              "    </tr>\n",
              "  </tbody>\n",
              "</table>\n",
              "</div>"
            ],
            "text/plain": [
              "   batas_bawah  batas_atas  ...  xi-xbar  fi[xi-xbar]\n",
              "0         1.55        1.81  ...     1.80         1.80\n",
              "1         1.82        2.08  ...     1.53         0.00\n",
              "2         2.09        2.35  ...     1.26         0.00\n",
              "3         2.36        2.62  ...     0.99         1.98\n",
              "4         2.63        2.89  ...     0.72         3.60\n",
              "5         2.90        3.16  ...     0.45         1.80\n",
              "6         3.17        3.43  ...     0.18         6.30\n",
              "7         3.44        3.70  ...     0.09         5.94\n",
              "8         3.71        3.97  ...     0.36         9.72\n",
              "\n",
              "[9 rows x 8 columns]"
            ]
          },
          "metadata": {
            "tags": []
          },
          "execution_count": 128
        }
      ]
    },
    {
      "cell_type": "code",
      "metadata": {
        "colab": {
          "base_uri": "https://localhost:8080/"
        },
        "id": "02owd1EkyVwT",
        "outputId": "18f637fc-03eb-4fb1-b6ea-e3afd1b7aa5d"
      },
      "source": [
        "jumlah_fixixbar_si = si_interval['fi[xi-xbar]'].sum()\n",
        "jumlah_fixixbar_si"
      ],
      "execution_count": null,
      "outputs": [
        {
          "output_type": "execute_result",
          "data": {
            "text/plain": [
              "31.14"
            ]
          },
          "metadata": {
            "tags": []
          },
          "execution_count": 129
        }
      ]
    },
    {
      "cell_type": "code",
      "metadata": {
        "colab": {
          "base_uri": "https://localhost:8080/"
        },
        "id": "teKqAU4Qzhml",
        "outputId": "fd03b87c-51ef-4049-d85d-3be90329abae"
      },
      "source": [
        "meanDeviasi = twoDecimalPoint(jumlah_fixixbar_si/jumlah_fi_si)\n",
        "print('Simpangan rata-rata =>', meanDeviasi)"
      ],
      "execution_count": null,
      "outputs": [
        {
          "output_type": "stream",
          "text": [
            "Simpangan rata-rata => 0.22\n"
          ],
          "name": "stdout"
        }
      ]
    },
    {
      "cell_type": "markdown",
      "metadata": {
        "id": "JoMy3Xz55ATm"
      },
      "source": [
        "### Standar Deviasi"
      ]
    },
    {
      "cell_type": "code",
      "metadata": {
        "colab": {
          "base_uri": "https://localhost:8080/",
          "height": 345
        },
        "id": "tB93QDlH4-5Q",
        "outputId": "f9c00bdf-1be2-40bc-87b0-64266e182454"
      },
      "source": [
        "def getXiKuadrat(df):\n",
        "  xikuadrat = []\n",
        "  for i in df['nilai_tengah']:\n",
        "    xikuadrat.append(twoDecimalPoint(i**2))\n",
        "\n",
        "  xikuadrat = pd.DataFrame(xikuadrat)\n",
        "  xikuadrat.columns = ['xi_kuadrat']\n",
        "\n",
        "  return pd.concat([df, xikuadrat], axis='columns')\n",
        "\n",
        "def getFiXiKuadrat(df):\n",
        "  fixikuadrat = []\n",
        "  for i in df['fi*xi']:\n",
        "    fixikuadrat.append(twoDecimalPoint(i**2))\n",
        "\n",
        "  fixikuadrat = pd.DataFrame(fixikuadrat)\n",
        "  fixikuadrat.columns = ['fixi_kuadrat']\n",
        "\n",
        "  return pd.concat([df, fixikuadrat], axis='columns')\n",
        "\n",
        "si_interval = getXiKuadrat(si_interval)\n",
        "si_interval = getFiXiKuadrat(si_interval)\n",
        "si_interval"
      ],
      "execution_count": null,
      "outputs": [
        {
          "output_type": "execute_result",
          "data": {
            "text/html": [
              "<div>\n",
              "<style scoped>\n",
              "    .dataframe tbody tr th:only-of-type {\n",
              "        vertical-align: middle;\n",
              "    }\n",
              "\n",
              "    .dataframe tbody tr th {\n",
              "        vertical-align: top;\n",
              "    }\n",
              "\n",
              "    .dataframe thead th {\n",
              "        text-align: right;\n",
              "    }\n",
              "</style>\n",
              "<table border=\"1\" class=\"dataframe\">\n",
              "  <thead>\n",
              "    <tr style=\"text-align: right;\">\n",
              "      <th></th>\n",
              "      <th>batas_bawah</th>\n",
              "      <th>batas_atas</th>\n",
              "      <th>frekuensi</th>\n",
              "      <th>nilai_tengah</th>\n",
              "      <th>fi*xi</th>\n",
              "      <th>frekuensi_kumulatif</th>\n",
              "      <th>xi-xbar</th>\n",
              "      <th>fi[xi-xbar]</th>\n",
              "      <th>xi_kuadrat</th>\n",
              "      <th>fixi_kuadrat</th>\n",
              "    </tr>\n",
              "  </thead>\n",
              "  <tbody>\n",
              "    <tr>\n",
              "      <th>0</th>\n",
              "      <td>1.55</td>\n",
              "      <td>1.81</td>\n",
              "      <td>1</td>\n",
              "      <td>1.68</td>\n",
              "      <td>1.68</td>\n",
              "      <td>1.0</td>\n",
              "      <td>1.80</td>\n",
              "      <td>1.80</td>\n",
              "      <td>2.82</td>\n",
              "      <td>2.82</td>\n",
              "    </tr>\n",
              "    <tr>\n",
              "      <th>1</th>\n",
              "      <td>1.82</td>\n",
              "      <td>2.08</td>\n",
              "      <td>0</td>\n",
              "      <td>1.95</td>\n",
              "      <td>0.00</td>\n",
              "      <td>1.0</td>\n",
              "      <td>1.53</td>\n",
              "      <td>0.00</td>\n",
              "      <td>3.80</td>\n",
              "      <td>0.00</td>\n",
              "    </tr>\n",
              "    <tr>\n",
              "      <th>2</th>\n",
              "      <td>2.09</td>\n",
              "      <td>2.35</td>\n",
              "      <td>0</td>\n",
              "      <td>2.22</td>\n",
              "      <td>0.00</td>\n",
              "      <td>1.0</td>\n",
              "      <td>1.26</td>\n",
              "      <td>0.00</td>\n",
              "      <td>4.93</td>\n",
              "      <td>0.00</td>\n",
              "    </tr>\n",
              "    <tr>\n",
              "      <th>3</th>\n",
              "      <td>2.36</td>\n",
              "      <td>2.62</td>\n",
              "      <td>2</td>\n",
              "      <td>2.49</td>\n",
              "      <td>4.98</td>\n",
              "      <td>3.0</td>\n",
              "      <td>0.99</td>\n",
              "      <td>1.98</td>\n",
              "      <td>6.20</td>\n",
              "      <td>24.80</td>\n",
              "    </tr>\n",
              "    <tr>\n",
              "      <th>4</th>\n",
              "      <td>2.63</td>\n",
              "      <td>2.89</td>\n",
              "      <td>5</td>\n",
              "      <td>2.76</td>\n",
              "      <td>13.80</td>\n",
              "      <td>8.0</td>\n",
              "      <td>0.72</td>\n",
              "      <td>3.60</td>\n",
              "      <td>7.62</td>\n",
              "      <td>190.44</td>\n",
              "    </tr>\n",
              "    <tr>\n",
              "      <th>5</th>\n",
              "      <td>2.90</td>\n",
              "      <td>3.16</td>\n",
              "      <td>4</td>\n",
              "      <td>3.03</td>\n",
              "      <td>12.12</td>\n",
              "      <td>12.0</td>\n",
              "      <td>0.45</td>\n",
              "      <td>1.80</td>\n",
              "      <td>9.18</td>\n",
              "      <td>146.89</td>\n",
              "    </tr>\n",
              "    <tr>\n",
              "      <th>6</th>\n",
              "      <td>3.17</td>\n",
              "      <td>3.43</td>\n",
              "      <td>35</td>\n",
              "      <td>3.30</td>\n",
              "      <td>115.50</td>\n",
              "      <td>47.0</td>\n",
              "      <td>0.18</td>\n",
              "      <td>6.30</td>\n",
              "      <td>10.89</td>\n",
              "      <td>13340.25</td>\n",
              "    </tr>\n",
              "    <tr>\n",
              "      <th>7</th>\n",
              "      <td>3.44</td>\n",
              "      <td>3.70</td>\n",
              "      <td>66</td>\n",
              "      <td>3.57</td>\n",
              "      <td>235.62</td>\n",
              "      <td>113.0</td>\n",
              "      <td>0.09</td>\n",
              "      <td>5.94</td>\n",
              "      <td>12.74</td>\n",
              "      <td>55516.78</td>\n",
              "    </tr>\n",
              "    <tr>\n",
              "      <th>8</th>\n",
              "      <td>3.71</td>\n",
              "      <td>3.97</td>\n",
              "      <td>27</td>\n",
              "      <td>3.84</td>\n",
              "      <td>103.68</td>\n",
              "      <td>140.0</td>\n",
              "      <td>0.36</td>\n",
              "      <td>9.72</td>\n",
              "      <td>14.75</td>\n",
              "      <td>10749.54</td>\n",
              "    </tr>\n",
              "  </tbody>\n",
              "</table>\n",
              "</div>"
            ],
            "text/plain": [
              "   batas_bawah  batas_atas  frekuensi  ...  fi[xi-xbar]  xi_kuadrat  fixi_kuadrat\n",
              "0         1.55        1.81          1  ...         1.80        2.82          2.82\n",
              "1         1.82        2.08          0  ...         0.00        3.80          0.00\n",
              "2         2.09        2.35          0  ...         0.00        4.93          0.00\n",
              "3         2.36        2.62          2  ...         1.98        6.20         24.80\n",
              "4         2.63        2.89          5  ...         3.60        7.62        190.44\n",
              "5         2.90        3.16          4  ...         1.80        9.18        146.89\n",
              "6         3.17        3.43         35  ...         6.30       10.89      13340.25\n",
              "7         3.44        3.70         66  ...         5.94       12.74      55516.78\n",
              "8         3.71        3.97         27  ...         9.72       14.75      10749.54\n",
              "\n",
              "[9 rows x 10 columns]"
            ]
          },
          "metadata": {
            "tags": []
          },
          "execution_count": 131
        }
      ]
    },
    {
      "cell_type": "code",
      "metadata": {
        "colab": {
          "base_uri": "https://localhost:8080/"
        },
        "id": "uj2RLe349gul",
        "outputId": "04cd9613-f04d-4f27-e59b-10f9be681179"
      },
      "source": [
        "varian = twoDecimalPoint((si_interval['fixi_kuadrat'].sum()-(si_interval['fi*xi'].sum()**2/jumlah_fi_si))/(jumlah_fi_si-1))\n",
        "varian"
      ],
      "execution_count": null,
      "outputs": [
        {
          "output_type": "execute_result",
          "data": {
            "text/plain": [
              "563.13"
            ]
          },
          "metadata": {
            "tags": []
          },
          "execution_count": 132
        }
      ]
    },
    {
      "cell_type": "code",
      "metadata": {
        "colab": {
          "base_uri": "https://localhost:8080/"
        },
        "id": "Otk7LIdiAwVd",
        "outputId": "b10f2fb1-c358-46ce-b360-6ce0a647d499"
      },
      "source": [
        "standar_deviasi = twoDecimalPoint(math.sqrt(varian))\n",
        "print('Standar deviasi =>', standar_deviasi)"
      ],
      "execution_count": null,
      "outputs": [
        {
          "output_type": "stream",
          "text": [
            "Standar deviasi => 23.73\n"
          ],
          "name": "stdout"
        }
      ]
    },
    {
      "cell_type": "markdown",
      "metadata": {
        "id": "892BxvHLdbXD"
      },
      "source": [
        "# TI 19"
      ]
    },
    {
      "cell_type": "code",
      "metadata": {
        "id": "wdIeK73qdYrV"
      },
      "source": [
        "ti_min = twoDecimalPoint(ti.IPK.min())\n",
        "ti_max = twoDecimalPoint(ti.IPK.max())\n",
        "ti_range = twoDecimalPoint(ti_max - ti_min)\n",
        "ti_k = math.ceil(twoDecimalPoint(1+(3.33*math.log(len(ti.IPK), 10))))\n",
        "ti_p = twoDecimalPoint(ti_range/ti_k)"
      ],
      "execution_count": null,
      "outputs": []
    },
    {
      "cell_type": "code",
      "metadata": {
        "colab": {
          "base_uri": "https://localhost:8080/"
        },
        "id": "y-t8GyBad0qC",
        "outputId": "02cb6698-490e-4470-b7bb-31ff8421c789"
      },
      "source": [
        "show('Min', ti_min)\n",
        "show('Max', ti_max)\n",
        "show('Range', ti_range)\n",
        "show('K', ti_k)\n",
        "show('P', ti_p)"
      ],
      "execution_count": null,
      "outputs": [
        {
          "output_type": "stream",
          "text": [
            "Min = 0.53\n",
            "Max = 3.88\n",
            "Range = 3.35\n",
            "K = 8\n",
            "P = 0.42\n"
          ],
          "name": "stdout"
        }
      ]
    },
    {
      "cell_type": "code",
      "metadata": {
        "colab": {
          "base_uri": "https://localhost:8080/",
          "height": 297
        },
        "id": "rHTUP7AAd_6a",
        "outputId": "0b7f62de-2db1-47f6-b4b7-4086f9a256cd"
      },
      "source": [
        "ti_interval = getInterval(ti_min, ti_k, ti_p,)\n",
        "ti_interval"
      ],
      "execution_count": null,
      "outputs": [
        {
          "output_type": "execute_result",
          "data": {
            "text/html": [
              "<div>\n",
              "<style scoped>\n",
              "    .dataframe tbody tr th:only-of-type {\n",
              "        vertical-align: middle;\n",
              "    }\n",
              "\n",
              "    .dataframe tbody tr th {\n",
              "        vertical-align: top;\n",
              "    }\n",
              "\n",
              "    .dataframe thead th {\n",
              "        text-align: right;\n",
              "    }\n",
              "</style>\n",
              "<table border=\"1\" class=\"dataframe\">\n",
              "  <thead>\n",
              "    <tr style=\"text-align: right;\">\n",
              "      <th></th>\n",
              "      <th>batas_bawah</th>\n",
              "      <th>batas_atas</th>\n",
              "    </tr>\n",
              "  </thead>\n",
              "  <tbody>\n",
              "    <tr>\n",
              "      <th>0</th>\n",
              "      <td>0.53</td>\n",
              "      <td>0.94</td>\n",
              "    </tr>\n",
              "    <tr>\n",
              "      <th>1</th>\n",
              "      <td>0.95</td>\n",
              "      <td>1.36</td>\n",
              "    </tr>\n",
              "    <tr>\n",
              "      <th>2</th>\n",
              "      <td>1.37</td>\n",
              "      <td>1.78</td>\n",
              "    </tr>\n",
              "    <tr>\n",
              "      <th>3</th>\n",
              "      <td>1.79</td>\n",
              "      <td>2.20</td>\n",
              "    </tr>\n",
              "    <tr>\n",
              "      <th>4</th>\n",
              "      <td>2.21</td>\n",
              "      <td>2.62</td>\n",
              "    </tr>\n",
              "    <tr>\n",
              "      <th>5</th>\n",
              "      <td>2.63</td>\n",
              "      <td>3.04</td>\n",
              "    </tr>\n",
              "    <tr>\n",
              "      <th>6</th>\n",
              "      <td>3.05</td>\n",
              "      <td>3.46</td>\n",
              "    </tr>\n",
              "    <tr>\n",
              "      <th>7</th>\n",
              "      <td>3.47</td>\n",
              "      <td>3.88</td>\n",
              "    </tr>\n",
              "  </tbody>\n",
              "</table>\n",
              "</div>"
            ],
            "text/plain": [
              "   batas_bawah  batas_atas\n",
              "0         0.53        0.94\n",
              "1         0.95        1.36\n",
              "2         1.37        1.78\n",
              "3         1.79        2.20\n",
              "4         2.21        2.62\n",
              "5         2.63        3.04\n",
              "6         3.05        3.46\n",
              "7         3.47        3.88"
            ]
          },
          "metadata": {
            "tags": []
          },
          "execution_count": 147
        }
      ]
    },
    {
      "cell_type": "code",
      "metadata": {
        "colab": {
          "base_uri": "https://localhost:8080/",
          "height": 297
        },
        "id": "ej0F-LCceM_n",
        "outputId": "07b1c317-2a69-402c-b726-a1c16679cd08"
      },
      "source": [
        "ti_interval = getFrekuensi(ti, ti_interval)\n",
        "ti_interval"
      ],
      "execution_count": null,
      "outputs": [
        {
          "output_type": "execute_result",
          "data": {
            "text/html": [
              "<div>\n",
              "<style scoped>\n",
              "    .dataframe tbody tr th:only-of-type {\n",
              "        vertical-align: middle;\n",
              "    }\n",
              "\n",
              "    .dataframe tbody tr th {\n",
              "        vertical-align: top;\n",
              "    }\n",
              "\n",
              "    .dataframe thead th {\n",
              "        text-align: right;\n",
              "    }\n",
              "</style>\n",
              "<table border=\"1\" class=\"dataframe\">\n",
              "  <thead>\n",
              "    <tr style=\"text-align: right;\">\n",
              "      <th></th>\n",
              "      <th>batas_bawah</th>\n",
              "      <th>batas_atas</th>\n",
              "      <th>frekuensi</th>\n",
              "    </tr>\n",
              "  </thead>\n",
              "  <tbody>\n",
              "    <tr>\n",
              "      <th>0</th>\n",
              "      <td>0.53</td>\n",
              "      <td>0.94</td>\n",
              "      <td>1</td>\n",
              "    </tr>\n",
              "    <tr>\n",
              "      <th>1</th>\n",
              "      <td>0.95</td>\n",
              "      <td>1.36</td>\n",
              "      <td>2</td>\n",
              "    </tr>\n",
              "    <tr>\n",
              "      <th>2</th>\n",
              "      <td>1.37</td>\n",
              "      <td>1.78</td>\n",
              "      <td>0</td>\n",
              "    </tr>\n",
              "    <tr>\n",
              "      <th>3</th>\n",
              "      <td>1.79</td>\n",
              "      <td>2.20</td>\n",
              "      <td>1</td>\n",
              "    </tr>\n",
              "    <tr>\n",
              "      <th>4</th>\n",
              "      <td>2.21</td>\n",
              "      <td>2.62</td>\n",
              "      <td>7</td>\n",
              "    </tr>\n",
              "    <tr>\n",
              "      <th>5</th>\n",
              "      <td>2.63</td>\n",
              "      <td>3.04</td>\n",
              "      <td>8</td>\n",
              "    </tr>\n",
              "    <tr>\n",
              "      <th>6</th>\n",
              "      <td>3.05</td>\n",
              "      <td>3.46</td>\n",
              "      <td>41</td>\n",
              "    </tr>\n",
              "    <tr>\n",
              "      <th>7</th>\n",
              "      <td>3.47</td>\n",
              "      <td>3.88</td>\n",
              "      <td>27</td>\n",
              "    </tr>\n",
              "  </tbody>\n",
              "</table>\n",
              "</div>"
            ],
            "text/plain": [
              "   batas_bawah  batas_atas  frekuensi\n",
              "0         0.53        0.94          1\n",
              "1         0.95        1.36          2\n",
              "2         1.37        1.78          0\n",
              "3         1.79        2.20          1\n",
              "4         2.21        2.62          7\n",
              "5         2.63        3.04          8\n",
              "6         3.05        3.46         41\n",
              "7         3.47        3.88         27"
            ]
          },
          "metadata": {
            "tags": []
          },
          "execution_count": 148
        }
      ]
    },
    {
      "cell_type": "code",
      "metadata": {
        "colab": {
          "base_uri": "https://localhost:8080/"
        },
        "id": "-c-jOEO0ecCU",
        "outputId": "887dddc7-9978-41bf-d72d-f4088a0921e1"
      },
      "source": [
        "# menghitung jumlah frekuensi IPK prodi SI\n",
        "jumlah_fi_ti = ti_interval.frekuensi.sum()\n",
        "jumlah_fi_ti"
      ],
      "execution_count": null,
      "outputs": [
        {
          "output_type": "execute_result",
          "data": {
            "text/plain": [
              "87"
            ]
          },
          "metadata": {
            "tags": []
          },
          "execution_count": 149
        }
      ]
    },
    {
      "cell_type": "markdown",
      "metadata": {
        "id": "vh_jeKwkfQVm"
      },
      "source": [
        "### Mean"
      ]
    },
    {
      "cell_type": "code",
      "metadata": {
        "id": "nDjimK9welDO"
      },
      "source": [
        "ti_interval = getNilaiTengah(ti_interval)"
      ],
      "execution_count": null,
      "outputs": []
    },
    {
      "cell_type": "code",
      "metadata": {
        "colab": {
          "base_uri": "https://localhost:8080/",
          "height": 297
        },
        "id": "Ntilr1QjfHLH",
        "outputId": "0637bc1f-05d0-4303-b192-7ddf70812abf"
      },
      "source": [
        "ti_interval = getFixi(ti_interval)\n",
        "\n",
        "ti_interval"
      ],
      "execution_count": null,
      "outputs": [
        {
          "output_type": "execute_result",
          "data": {
            "text/html": [
              "<div>\n",
              "<style scoped>\n",
              "    .dataframe tbody tr th:only-of-type {\n",
              "        vertical-align: middle;\n",
              "    }\n",
              "\n",
              "    .dataframe tbody tr th {\n",
              "        vertical-align: top;\n",
              "    }\n",
              "\n",
              "    .dataframe thead th {\n",
              "        text-align: right;\n",
              "    }\n",
              "</style>\n",
              "<table border=\"1\" class=\"dataframe\">\n",
              "  <thead>\n",
              "    <tr style=\"text-align: right;\">\n",
              "      <th></th>\n",
              "      <th>batas_bawah</th>\n",
              "      <th>batas_atas</th>\n",
              "      <th>frekuensi</th>\n",
              "      <th>nilai_tengah</th>\n",
              "      <th>fi*xi</th>\n",
              "    </tr>\n",
              "  </thead>\n",
              "  <tbody>\n",
              "    <tr>\n",
              "      <th>0</th>\n",
              "      <td>0.53</td>\n",
              "      <td>0.94</td>\n",
              "      <td>1</td>\n",
              "      <td>0.73</td>\n",
              "      <td>0.73</td>\n",
              "    </tr>\n",
              "    <tr>\n",
              "      <th>1</th>\n",
              "      <td>0.95</td>\n",
              "      <td>1.36</td>\n",
              "      <td>2</td>\n",
              "      <td>1.16</td>\n",
              "      <td>2.32</td>\n",
              "    </tr>\n",
              "    <tr>\n",
              "      <th>2</th>\n",
              "      <td>1.37</td>\n",
              "      <td>1.78</td>\n",
              "      <td>0</td>\n",
              "      <td>1.58</td>\n",
              "      <td>0.00</td>\n",
              "    </tr>\n",
              "    <tr>\n",
              "      <th>3</th>\n",
              "      <td>1.79</td>\n",
              "      <td>2.20</td>\n",
              "      <td>1</td>\n",
              "      <td>2.00</td>\n",
              "      <td>2.00</td>\n",
              "    </tr>\n",
              "    <tr>\n",
              "      <th>4</th>\n",
              "      <td>2.21</td>\n",
              "      <td>2.62</td>\n",
              "      <td>7</td>\n",
              "      <td>2.42</td>\n",
              "      <td>16.94</td>\n",
              "    </tr>\n",
              "    <tr>\n",
              "      <th>5</th>\n",
              "      <td>2.63</td>\n",
              "      <td>3.04</td>\n",
              "      <td>8</td>\n",
              "      <td>2.83</td>\n",
              "      <td>22.64</td>\n",
              "    </tr>\n",
              "    <tr>\n",
              "      <th>6</th>\n",
              "      <td>3.05</td>\n",
              "      <td>3.46</td>\n",
              "      <td>41</td>\n",
              "      <td>3.25</td>\n",
              "      <td>133.25</td>\n",
              "    </tr>\n",
              "    <tr>\n",
              "      <th>7</th>\n",
              "      <td>3.47</td>\n",
              "      <td>3.88</td>\n",
              "      <td>27</td>\n",
              "      <td>3.67</td>\n",
              "      <td>99.09</td>\n",
              "    </tr>\n",
              "  </tbody>\n",
              "</table>\n",
              "</div>"
            ],
            "text/plain": [
              "   batas_bawah  batas_atas  frekuensi  nilai_tengah   fi*xi\n",
              "0         0.53        0.94          1          0.73    0.73\n",
              "1         0.95        1.36          2          1.16    2.32\n",
              "2         1.37        1.78          0          1.58    0.00\n",
              "3         1.79        2.20          1          2.00    2.00\n",
              "4         2.21        2.62          7          2.42   16.94\n",
              "5         2.63        3.04          8          2.83   22.64\n",
              "6         3.05        3.46         41          3.25  133.25\n",
              "7         3.47        3.88         27          3.67   99.09"
            ]
          },
          "metadata": {
            "tags": []
          },
          "execution_count": 151
        }
      ]
    },
    {
      "cell_type": "code",
      "metadata": {
        "colab": {
          "base_uri": "https://localhost:8080/"
        },
        "id": "E4MFVHMJfNbS",
        "outputId": "da297e90-a3f2-4e3d-885e-93adf093828e"
      },
      "source": [
        "jumlah_fixi_ti = ti_interval['fi*xi'].sum()\n",
        "\n",
        "mean = twoDecimalPoint(jumlah_fixi_ti/jumlah_fi_ti)\n",
        "\n",
        "print('mean =>', mean)"
      ],
      "execution_count": null,
      "outputs": [
        {
          "output_type": "stream",
          "text": [
            "mean => 3.18\n"
          ],
          "name": "stdout"
        }
      ]
    },
    {
      "cell_type": "markdown",
      "metadata": {
        "id": "jlbqFeb8oFnz"
      },
      "source": [
        "### Median"
      ]
    },
    {
      "cell_type": "code",
      "metadata": {
        "colab": {
          "base_uri": "https://localhost:8080/",
          "height": 297
        },
        "id": "MHh1KMf7fbw6",
        "outputId": "27f174a4-00b3-4758-962c-37b79c9d3a22"
      },
      "source": [
        "ti_interval = getFK(ti_interval)\n",
        "ti_interval"
      ],
      "execution_count": null,
      "outputs": [
        {
          "output_type": "execute_result",
          "data": {
            "text/html": [
              "<div>\n",
              "<style scoped>\n",
              "    .dataframe tbody tr th:only-of-type {\n",
              "        vertical-align: middle;\n",
              "    }\n",
              "\n",
              "    .dataframe tbody tr th {\n",
              "        vertical-align: top;\n",
              "    }\n",
              "\n",
              "    .dataframe thead th {\n",
              "        text-align: right;\n",
              "    }\n",
              "</style>\n",
              "<table border=\"1\" class=\"dataframe\">\n",
              "  <thead>\n",
              "    <tr style=\"text-align: right;\">\n",
              "      <th></th>\n",
              "      <th>batas_bawah</th>\n",
              "      <th>batas_atas</th>\n",
              "      <th>frekuensi</th>\n",
              "      <th>nilai_tengah</th>\n",
              "      <th>fi*xi</th>\n",
              "      <th>frekuensi_kumulatif</th>\n",
              "    </tr>\n",
              "  </thead>\n",
              "  <tbody>\n",
              "    <tr>\n",
              "      <th>0</th>\n",
              "      <td>0.53</td>\n",
              "      <td>0.94</td>\n",
              "      <td>1</td>\n",
              "      <td>0.73</td>\n",
              "      <td>0.73</td>\n",
              "      <td>1.0</td>\n",
              "    </tr>\n",
              "    <tr>\n",
              "      <th>1</th>\n",
              "      <td>0.95</td>\n",
              "      <td>1.36</td>\n",
              "      <td>2</td>\n",
              "      <td>1.16</td>\n",
              "      <td>2.32</td>\n",
              "      <td>3.0</td>\n",
              "    </tr>\n",
              "    <tr>\n",
              "      <th>2</th>\n",
              "      <td>1.37</td>\n",
              "      <td>1.78</td>\n",
              "      <td>0</td>\n",
              "      <td>1.58</td>\n",
              "      <td>0.00</td>\n",
              "      <td>3.0</td>\n",
              "    </tr>\n",
              "    <tr>\n",
              "      <th>3</th>\n",
              "      <td>1.79</td>\n",
              "      <td>2.20</td>\n",
              "      <td>1</td>\n",
              "      <td>2.00</td>\n",
              "      <td>2.00</td>\n",
              "      <td>4.0</td>\n",
              "    </tr>\n",
              "    <tr>\n",
              "      <th>4</th>\n",
              "      <td>2.21</td>\n",
              "      <td>2.62</td>\n",
              "      <td>7</td>\n",
              "      <td>2.42</td>\n",
              "      <td>16.94</td>\n",
              "      <td>11.0</td>\n",
              "    </tr>\n",
              "    <tr>\n",
              "      <th>5</th>\n",
              "      <td>2.63</td>\n",
              "      <td>3.04</td>\n",
              "      <td>8</td>\n",
              "      <td>2.83</td>\n",
              "      <td>22.64</td>\n",
              "      <td>19.0</td>\n",
              "    </tr>\n",
              "    <tr>\n",
              "      <th>6</th>\n",
              "      <td>3.05</td>\n",
              "      <td>3.46</td>\n",
              "      <td>41</td>\n",
              "      <td>3.25</td>\n",
              "      <td>133.25</td>\n",
              "      <td>60.0</td>\n",
              "    </tr>\n",
              "    <tr>\n",
              "      <th>7</th>\n",
              "      <td>3.47</td>\n",
              "      <td>3.88</td>\n",
              "      <td>27</td>\n",
              "      <td>3.67</td>\n",
              "      <td>99.09</td>\n",
              "      <td>87.0</td>\n",
              "    </tr>\n",
              "  </tbody>\n",
              "</table>\n",
              "</div>"
            ],
            "text/plain": [
              "   batas_bawah  batas_atas  ...   fi*xi  frekuensi_kumulatif\n",
              "0         0.53        0.94  ...    0.73                  1.0\n",
              "1         0.95        1.36  ...    2.32                  3.0\n",
              "2         1.37        1.78  ...    0.00                  3.0\n",
              "3         1.79        2.20  ...    2.00                  4.0\n",
              "4         2.21        2.62  ...   16.94                 11.0\n",
              "5         2.63        3.04  ...   22.64                 19.0\n",
              "6         3.05        3.46  ...  133.25                 60.0\n",
              "7         3.47        3.88  ...   99.09                 87.0\n",
              "\n",
              "[8 rows x 6 columns]"
            ]
          },
          "metadata": {
            "tags": []
          },
          "execution_count": 153
        }
      ]
    },
    {
      "cell_type": "code",
      "metadata": {
        "colab": {
          "base_uri": "https://localhost:8080/"
        },
        "id": "_TynQ6nsfmsk",
        "outputId": "33d6fbe9-3603-4aa9-8e24-6854657c77fc"
      },
      "source": [
        "median = getMedian(ti_interval, ti_range)\n",
        "print('Median =>', median)"
      ],
      "execution_count": null,
      "outputs": [
        {
          "output_type": "stream",
          "text": [
            "Median => 6.72\n"
          ],
          "name": "stdout"
        }
      ]
    },
    {
      "cell_type": "markdown",
      "metadata": {
        "id": "yyG3rGXioJGv"
      },
      "source": [
        "### Modus"
      ]
    },
    {
      "cell_type": "code",
      "metadata": {
        "colab": {
          "base_uri": "https://localhost:8080/"
        },
        "id": "QRpr97g2n94C",
        "outputId": "1b9484ad-718f-4e2d-aefa-eb8c5c399016"
      },
      "source": [
        "modus = getModus(ti_interval, ti_range)\n",
        "print('Modus =>',modus)"
      ],
      "execution_count": null,
      "outputs": [
        {
          "output_type": "stream",
          "text": [
            "Modus => 3.32\n"
          ],
          "name": "stdout"
        }
      ]
    },
    {
      "cell_type": "markdown",
      "metadata": {
        "id": "FFKzlk4Uoe2t"
      },
      "source": [
        "### Range"
      ]
    },
    {
      "cell_type": "code",
      "metadata": {
        "colab": {
          "base_uri": "https://localhost:8080/"
        },
        "id": "WJB8wzn9oNBM",
        "outputId": "085b5bd0-e85c-4cdb-8604-8f1cf851e7df"
      },
      "source": [
        "rentang = getRange(ti_interval)\n",
        "\n",
        "print('Range =>', rentang)"
      ],
      "execution_count": null,
      "outputs": [
        {
          "output_type": "stream",
          "text": [
            "Range => 4.35\n"
          ],
          "name": "stdout"
        }
      ]
    },
    {
      "cell_type": "markdown",
      "metadata": {
        "id": "0i2c6H0bo1wL"
      },
      "source": [
        "### Simpangan rata-rata"
      ]
    },
    {
      "cell_type": "code",
      "metadata": {
        "id": "2eIrNIaDolge"
      },
      "source": [
        "average = twoDecimalPoint(jumlah_fixi_si/jumlah_fi_si)"
      ],
      "execution_count": null,
      "outputs": []
    },
    {
      "cell_type": "code",
      "metadata": {
        "colab": {
          "base_uri": "https://localhost:8080/",
          "height": 297
        },
        "id": "rrHNvmPAo9yO",
        "outputId": "03b7c513-7bb1-41e2-b409-cb914d599dac"
      },
      "source": [
        "ti_interval = getXiXbar(ti_interval)\n",
        "ti_interval"
      ],
      "execution_count": null,
      "outputs": [
        {
          "output_type": "execute_result",
          "data": {
            "text/html": [
              "<div>\n",
              "<style scoped>\n",
              "    .dataframe tbody tr th:only-of-type {\n",
              "        vertical-align: middle;\n",
              "    }\n",
              "\n",
              "    .dataframe tbody tr th {\n",
              "        vertical-align: top;\n",
              "    }\n",
              "\n",
              "    .dataframe thead th {\n",
              "        text-align: right;\n",
              "    }\n",
              "</style>\n",
              "<table border=\"1\" class=\"dataframe\">\n",
              "  <thead>\n",
              "    <tr style=\"text-align: right;\">\n",
              "      <th></th>\n",
              "      <th>batas_bawah</th>\n",
              "      <th>batas_atas</th>\n",
              "      <th>frekuensi</th>\n",
              "      <th>nilai_tengah</th>\n",
              "      <th>fi*xi</th>\n",
              "      <th>frekuensi_kumulatif</th>\n",
              "      <th>xi-xbar</th>\n",
              "    </tr>\n",
              "  </thead>\n",
              "  <tbody>\n",
              "    <tr>\n",
              "      <th>0</th>\n",
              "      <td>0.53</td>\n",
              "      <td>0.94</td>\n",
              "      <td>1</td>\n",
              "      <td>0.73</td>\n",
              "      <td>0.73</td>\n",
              "      <td>1.0</td>\n",
              "      <td>2.75</td>\n",
              "    </tr>\n",
              "    <tr>\n",
              "      <th>1</th>\n",
              "      <td>0.95</td>\n",
              "      <td>1.36</td>\n",
              "      <td>2</td>\n",
              "      <td>1.16</td>\n",
              "      <td>2.32</td>\n",
              "      <td>3.0</td>\n",
              "      <td>2.32</td>\n",
              "    </tr>\n",
              "    <tr>\n",
              "      <th>2</th>\n",
              "      <td>1.37</td>\n",
              "      <td>1.78</td>\n",
              "      <td>0</td>\n",
              "      <td>1.58</td>\n",
              "      <td>0.00</td>\n",
              "      <td>3.0</td>\n",
              "      <td>1.90</td>\n",
              "    </tr>\n",
              "    <tr>\n",
              "      <th>3</th>\n",
              "      <td>1.79</td>\n",
              "      <td>2.20</td>\n",
              "      <td>1</td>\n",
              "      <td>2.00</td>\n",
              "      <td>2.00</td>\n",
              "      <td>4.0</td>\n",
              "      <td>1.48</td>\n",
              "    </tr>\n",
              "    <tr>\n",
              "      <th>4</th>\n",
              "      <td>2.21</td>\n",
              "      <td>2.62</td>\n",
              "      <td>7</td>\n",
              "      <td>2.42</td>\n",
              "      <td>16.94</td>\n",
              "      <td>11.0</td>\n",
              "      <td>1.06</td>\n",
              "    </tr>\n",
              "    <tr>\n",
              "      <th>5</th>\n",
              "      <td>2.63</td>\n",
              "      <td>3.04</td>\n",
              "      <td>8</td>\n",
              "      <td>2.83</td>\n",
              "      <td>22.64</td>\n",
              "      <td>19.0</td>\n",
              "      <td>0.65</td>\n",
              "    </tr>\n",
              "    <tr>\n",
              "      <th>6</th>\n",
              "      <td>3.05</td>\n",
              "      <td>3.46</td>\n",
              "      <td>41</td>\n",
              "      <td>3.25</td>\n",
              "      <td>133.25</td>\n",
              "      <td>60.0</td>\n",
              "      <td>0.23</td>\n",
              "    </tr>\n",
              "    <tr>\n",
              "      <th>7</th>\n",
              "      <td>3.47</td>\n",
              "      <td>3.88</td>\n",
              "      <td>27</td>\n",
              "      <td>3.67</td>\n",
              "      <td>99.09</td>\n",
              "      <td>87.0</td>\n",
              "      <td>0.19</td>\n",
              "    </tr>\n",
              "  </tbody>\n",
              "</table>\n",
              "</div>"
            ],
            "text/plain": [
              "   batas_bawah  batas_atas  frekuensi  ...   fi*xi  frekuensi_kumulatif  xi-xbar\n",
              "0         0.53        0.94          1  ...    0.73                  1.0     2.75\n",
              "1         0.95        1.36          2  ...    2.32                  3.0     2.32\n",
              "2         1.37        1.78          0  ...    0.00                  3.0     1.90\n",
              "3         1.79        2.20          1  ...    2.00                  4.0     1.48\n",
              "4         2.21        2.62          7  ...   16.94                 11.0     1.06\n",
              "5         2.63        3.04          8  ...   22.64                 19.0     0.65\n",
              "6         3.05        3.46         41  ...  133.25                 60.0     0.23\n",
              "7         3.47        3.88         27  ...   99.09                 87.0     0.19\n",
              "\n",
              "[8 rows x 7 columns]"
            ]
          },
          "metadata": {
            "tags": []
          },
          "execution_count": 159
        }
      ]
    },
    {
      "cell_type": "code",
      "metadata": {
        "colab": {
          "base_uri": "https://localhost:8080/",
          "height": 297
        },
        "id": "qGvBHiiNpCQR",
        "outputId": "d3d13a15-2647-4a6b-bf4a-3ff349f24c9c"
      },
      "source": [
        "ti_interval = getFiXiXbar(ti_interval)\n",
        "ti_interval"
      ],
      "execution_count": null,
      "outputs": [
        {
          "output_type": "execute_result",
          "data": {
            "text/html": [
              "<div>\n",
              "<style scoped>\n",
              "    .dataframe tbody tr th:only-of-type {\n",
              "        vertical-align: middle;\n",
              "    }\n",
              "\n",
              "    .dataframe tbody tr th {\n",
              "        vertical-align: top;\n",
              "    }\n",
              "\n",
              "    .dataframe thead th {\n",
              "        text-align: right;\n",
              "    }\n",
              "</style>\n",
              "<table border=\"1\" class=\"dataframe\">\n",
              "  <thead>\n",
              "    <tr style=\"text-align: right;\">\n",
              "      <th></th>\n",
              "      <th>batas_bawah</th>\n",
              "      <th>batas_atas</th>\n",
              "      <th>frekuensi</th>\n",
              "      <th>nilai_tengah</th>\n",
              "      <th>fi*xi</th>\n",
              "      <th>frekuensi_kumulatif</th>\n",
              "      <th>xi-xbar</th>\n",
              "      <th>fi[xi-xbar]</th>\n",
              "    </tr>\n",
              "  </thead>\n",
              "  <tbody>\n",
              "    <tr>\n",
              "      <th>0</th>\n",
              "      <td>0.53</td>\n",
              "      <td>0.94</td>\n",
              "      <td>1</td>\n",
              "      <td>0.73</td>\n",
              "      <td>0.73</td>\n",
              "      <td>1.0</td>\n",
              "      <td>2.75</td>\n",
              "      <td>2.75</td>\n",
              "    </tr>\n",
              "    <tr>\n",
              "      <th>1</th>\n",
              "      <td>0.95</td>\n",
              "      <td>1.36</td>\n",
              "      <td>2</td>\n",
              "      <td>1.16</td>\n",
              "      <td>2.32</td>\n",
              "      <td>3.0</td>\n",
              "      <td>2.32</td>\n",
              "      <td>4.64</td>\n",
              "    </tr>\n",
              "    <tr>\n",
              "      <th>2</th>\n",
              "      <td>1.37</td>\n",
              "      <td>1.78</td>\n",
              "      <td>0</td>\n",
              "      <td>1.58</td>\n",
              "      <td>0.00</td>\n",
              "      <td>3.0</td>\n",
              "      <td>1.90</td>\n",
              "      <td>0.00</td>\n",
              "    </tr>\n",
              "    <tr>\n",
              "      <th>3</th>\n",
              "      <td>1.79</td>\n",
              "      <td>2.20</td>\n",
              "      <td>1</td>\n",
              "      <td>2.00</td>\n",
              "      <td>2.00</td>\n",
              "      <td>4.0</td>\n",
              "      <td>1.48</td>\n",
              "      <td>1.48</td>\n",
              "    </tr>\n",
              "    <tr>\n",
              "      <th>4</th>\n",
              "      <td>2.21</td>\n",
              "      <td>2.62</td>\n",
              "      <td>7</td>\n",
              "      <td>2.42</td>\n",
              "      <td>16.94</td>\n",
              "      <td>11.0</td>\n",
              "      <td>1.06</td>\n",
              "      <td>7.42</td>\n",
              "    </tr>\n",
              "    <tr>\n",
              "      <th>5</th>\n",
              "      <td>2.63</td>\n",
              "      <td>3.04</td>\n",
              "      <td>8</td>\n",
              "      <td>2.83</td>\n",
              "      <td>22.64</td>\n",
              "      <td>19.0</td>\n",
              "      <td>0.65</td>\n",
              "      <td>5.20</td>\n",
              "    </tr>\n",
              "    <tr>\n",
              "      <th>6</th>\n",
              "      <td>3.05</td>\n",
              "      <td>3.46</td>\n",
              "      <td>41</td>\n",
              "      <td>3.25</td>\n",
              "      <td>133.25</td>\n",
              "      <td>60.0</td>\n",
              "      <td>0.23</td>\n",
              "      <td>9.43</td>\n",
              "    </tr>\n",
              "    <tr>\n",
              "      <th>7</th>\n",
              "      <td>3.47</td>\n",
              "      <td>3.88</td>\n",
              "      <td>27</td>\n",
              "      <td>3.67</td>\n",
              "      <td>99.09</td>\n",
              "      <td>87.0</td>\n",
              "      <td>0.19</td>\n",
              "      <td>5.13</td>\n",
              "    </tr>\n",
              "  </tbody>\n",
              "</table>\n",
              "</div>"
            ],
            "text/plain": [
              "   batas_bawah  batas_atas  ...  xi-xbar  fi[xi-xbar]\n",
              "0         0.53        0.94  ...     2.75         2.75\n",
              "1         0.95        1.36  ...     2.32         4.64\n",
              "2         1.37        1.78  ...     1.90         0.00\n",
              "3         1.79        2.20  ...     1.48         1.48\n",
              "4         2.21        2.62  ...     1.06         7.42\n",
              "5         2.63        3.04  ...     0.65         5.20\n",
              "6         3.05        3.46  ...     0.23         9.43\n",
              "7         3.47        3.88  ...     0.19         5.13\n",
              "\n",
              "[8 rows x 8 columns]"
            ]
          },
          "metadata": {
            "tags": []
          },
          "execution_count": 160
        }
      ]
    },
    {
      "cell_type": "code",
      "metadata": {
        "colab": {
          "base_uri": "https://localhost:8080/"
        },
        "id": "4IOBSwz_pNIk",
        "outputId": "1426ce63-222e-4cf0-81f6-ee8ae26a5c91"
      },
      "source": [
        "jumlah_fixixbar_ti = ti_interval['fi[xi-xbar]'].sum()\n",
        "jumlah_fixixbar_ti"
      ],
      "execution_count": null,
      "outputs": [
        {
          "output_type": "execute_result",
          "data": {
            "text/plain": [
              "36.05"
            ]
          },
          "metadata": {
            "tags": []
          },
          "execution_count": 163
        }
      ]
    },
    {
      "cell_type": "code",
      "metadata": {
        "colab": {
          "base_uri": "https://localhost:8080/"
        },
        "id": "kMBfWAAHpSHF",
        "outputId": "ff2cc2a8-91a7-41aa-adf6-62263d86ab6d"
      },
      "source": [
        "meanDeviasi = twoDecimalPoint(jumlah_fixixbar_ti/jumlah_fi_ti)\n",
        "print('Simpangan rata-rata =>', meanDeviasi)"
      ],
      "execution_count": null,
      "outputs": [
        {
          "output_type": "stream",
          "text": [
            "Simpangan rata-rata => 0.41\n"
          ],
          "name": "stdout"
        }
      ]
    },
    {
      "cell_type": "markdown",
      "metadata": {
        "id": "EN-Y3LBLpvit"
      },
      "source": [
        "### Standar Deviasi"
      ]
    },
    {
      "cell_type": "code",
      "metadata": {
        "colab": {
          "base_uri": "https://localhost:8080/",
          "height": 314
        },
        "id": "Hm66_tjbpU_G",
        "outputId": "88c303b2-67c9-42da-9feb-68cf262beb8f"
      },
      "source": [
        "ti_interval = getXiKuadrat(ti_interval)\n",
        "ti_interval = getFiXiKuadrat(ti_interval)\n",
        "ti_interval"
      ],
      "execution_count": null,
      "outputs": [
        {
          "output_type": "execute_result",
          "data": {
            "text/html": [
              "<div>\n",
              "<style scoped>\n",
              "    .dataframe tbody tr th:only-of-type {\n",
              "        vertical-align: middle;\n",
              "    }\n",
              "\n",
              "    .dataframe tbody tr th {\n",
              "        vertical-align: top;\n",
              "    }\n",
              "\n",
              "    .dataframe thead th {\n",
              "        text-align: right;\n",
              "    }\n",
              "</style>\n",
              "<table border=\"1\" class=\"dataframe\">\n",
              "  <thead>\n",
              "    <tr style=\"text-align: right;\">\n",
              "      <th></th>\n",
              "      <th>batas_bawah</th>\n",
              "      <th>batas_atas</th>\n",
              "      <th>frekuensi</th>\n",
              "      <th>nilai_tengah</th>\n",
              "      <th>fi*xi</th>\n",
              "      <th>frekuensi_kumulatif</th>\n",
              "      <th>xi-xbar</th>\n",
              "      <th>fi[xi-xbar]</th>\n",
              "      <th>xi_kuadrat</th>\n",
              "      <th>fixi_kuadrat</th>\n",
              "    </tr>\n",
              "  </thead>\n",
              "  <tbody>\n",
              "    <tr>\n",
              "      <th>0</th>\n",
              "      <td>0.53</td>\n",
              "      <td>0.94</td>\n",
              "      <td>1</td>\n",
              "      <td>0.73</td>\n",
              "      <td>0.73</td>\n",
              "      <td>1.0</td>\n",
              "      <td>2.75</td>\n",
              "      <td>2.75</td>\n",
              "      <td>0.53</td>\n",
              "      <td>0.53</td>\n",
              "    </tr>\n",
              "    <tr>\n",
              "      <th>1</th>\n",
              "      <td>0.95</td>\n",
              "      <td>1.36</td>\n",
              "      <td>2</td>\n",
              "      <td>1.16</td>\n",
              "      <td>2.32</td>\n",
              "      <td>3.0</td>\n",
              "      <td>2.32</td>\n",
              "      <td>4.64</td>\n",
              "      <td>1.35</td>\n",
              "      <td>5.38</td>\n",
              "    </tr>\n",
              "    <tr>\n",
              "      <th>2</th>\n",
              "      <td>1.37</td>\n",
              "      <td>1.78</td>\n",
              "      <td>0</td>\n",
              "      <td>1.58</td>\n",
              "      <td>0.00</td>\n",
              "      <td>3.0</td>\n",
              "      <td>1.90</td>\n",
              "      <td>0.00</td>\n",
              "      <td>2.50</td>\n",
              "      <td>0.00</td>\n",
              "    </tr>\n",
              "    <tr>\n",
              "      <th>3</th>\n",
              "      <td>1.79</td>\n",
              "      <td>2.20</td>\n",
              "      <td>1</td>\n",
              "      <td>2.00</td>\n",
              "      <td>2.00</td>\n",
              "      <td>4.0</td>\n",
              "      <td>1.48</td>\n",
              "      <td>1.48</td>\n",
              "      <td>4.00</td>\n",
              "      <td>4.00</td>\n",
              "    </tr>\n",
              "    <tr>\n",
              "      <th>4</th>\n",
              "      <td>2.21</td>\n",
              "      <td>2.62</td>\n",
              "      <td>7</td>\n",
              "      <td>2.42</td>\n",
              "      <td>16.94</td>\n",
              "      <td>11.0</td>\n",
              "      <td>1.06</td>\n",
              "      <td>7.42</td>\n",
              "      <td>5.86</td>\n",
              "      <td>286.96</td>\n",
              "    </tr>\n",
              "    <tr>\n",
              "      <th>5</th>\n",
              "      <td>2.63</td>\n",
              "      <td>3.04</td>\n",
              "      <td>8</td>\n",
              "      <td>2.83</td>\n",
              "      <td>22.64</td>\n",
              "      <td>19.0</td>\n",
              "      <td>0.65</td>\n",
              "      <td>5.20</td>\n",
              "      <td>8.01</td>\n",
              "      <td>512.57</td>\n",
              "    </tr>\n",
              "    <tr>\n",
              "      <th>6</th>\n",
              "      <td>3.05</td>\n",
              "      <td>3.46</td>\n",
              "      <td>41</td>\n",
              "      <td>3.25</td>\n",
              "      <td>133.25</td>\n",
              "      <td>60.0</td>\n",
              "      <td>0.23</td>\n",
              "      <td>9.43</td>\n",
              "      <td>10.56</td>\n",
              "      <td>17755.56</td>\n",
              "    </tr>\n",
              "    <tr>\n",
              "      <th>7</th>\n",
              "      <td>3.47</td>\n",
              "      <td>3.88</td>\n",
              "      <td>27</td>\n",
              "      <td>3.67</td>\n",
              "      <td>99.09</td>\n",
              "      <td>87.0</td>\n",
              "      <td>0.19</td>\n",
              "      <td>5.13</td>\n",
              "      <td>13.47</td>\n",
              "      <td>9818.83</td>\n",
              "    </tr>\n",
              "  </tbody>\n",
              "</table>\n",
              "</div>"
            ],
            "text/plain": [
              "   batas_bawah  batas_atas  frekuensi  ...  fi[xi-xbar]  xi_kuadrat  fixi_kuadrat\n",
              "0         0.53        0.94          1  ...         2.75        0.53          0.53\n",
              "1         0.95        1.36          2  ...         4.64        1.35          5.38\n",
              "2         1.37        1.78          0  ...         0.00        2.50          0.00\n",
              "3         1.79        2.20          1  ...         1.48        4.00          4.00\n",
              "4         2.21        2.62          7  ...         7.42        5.86        286.96\n",
              "5         2.63        3.04          8  ...         5.20        8.01        512.57\n",
              "6         3.05        3.46         41  ...         9.43       10.56      17755.56\n",
              "7         3.47        3.88         27  ...         5.13       13.47       9818.83\n",
              "\n",
              "[8 rows x 10 columns]"
            ]
          },
          "metadata": {
            "tags": []
          },
          "execution_count": 166
        }
      ]
    },
    {
      "cell_type": "code",
      "metadata": {
        "colab": {
          "base_uri": "https://localhost:8080/"
        },
        "id": "UcST__KLpjkY",
        "outputId": "07728f4a-cb37-44d0-e460-608332d6de8b"
      },
      "source": [
        "varian = twoDecimalPoint((ti_interval['fixi_kuadrat'].sum()-(ti_interval['fi*xi'].sum()**2/jumlah_fi_ti))/(jumlah_fi_ti-1))\n",
        "varian"
      ],
      "execution_count": null,
      "outputs": [
        {
          "output_type": "execute_result",
          "data": {
            "text/plain": [
              "319.79"
            ]
          },
          "metadata": {
            "tags": []
          },
          "execution_count": 167
        }
      ]
    },
    {
      "cell_type": "code",
      "metadata": {
        "colab": {
          "base_uri": "https://localhost:8080/"
        },
        "id": "MUEZIbdtp60B",
        "outputId": "1dc54cfb-8eaf-4434-ea7c-a00cad26b823"
      },
      "source": [
        "standar_deviasi = twoDecimalPoint(math.sqrt(varian))\n",
        "print('Standar deviasi =>', standar_deviasi)"
      ],
      "execution_count": null,
      "outputs": [
        {
          "output_type": "stream",
          "text": [
            "Standar deviasi => 17.88\n"
          ],
          "name": "stdout"
        }
      ]
    }
  ]
}